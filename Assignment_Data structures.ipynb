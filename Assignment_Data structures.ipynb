{
  "nbformat": 4,
  "nbformat_minor": 0,
  "metadata": {
    "colab": {
      "provenance": []
    },
    "kernelspec": {
      "name": "python3",
      "display_name": "Python 3"
    },
    "language_info": {
      "name": "python"
    }
  },
  "cells": [
    {
      "cell_type": "code",
      "execution_count": 3,
      "metadata": {
        "colab": {
          "base_uri": "https://localhost:8080/"
        },
        "id": "bQ6xZtahJN8X",
        "outputId": "e323c28a-4f9c-42c7-a490-c6b488045edc"
      },
      "outputs": [
        {
          "output_type": "stream",
          "name": "stdout",
          "text": [
            "RathnaKanaka Naga Dhana Harish\n",
            "<class 'str'>\n"
          ]
        }
      ],
      "source": [
        "# create a string with your name and print it\n",
        "Name = \"RathnaKanaka Naga Dhana Harish\"\n",
        "print(Name)\n",
        "print(type(Name))"
      ]
    },
    {
      "cell_type": "code",
      "source": [
        "# length of the string \"Hello World\"\n",
        "#String length method1:\n",
        "input_text = input(\"Enter the string of your choice: \")\n",
        "Str_len = len(input_text)\n",
        "print(Str_len)\n"
      ],
      "metadata": {
        "colab": {
          "base_uri": "https://localhost:8080/"
        },
        "id": "_ypQu2QSLQ1P",
        "outputId": "0ab6e7e7-32e5-470c-bb4f-1d93a0f1c036"
      },
      "execution_count": 11,
      "outputs": [
        {
          "output_type": "stream",
          "name": "stdout",
          "text": [
            "Enter the string of your choice: Hello World\n",
            "11\n"
          ]
        }
      ]
    },
    {
      "cell_type": "code",
      "source": [
        "#code to find the length of the string \"Hello World\"\n",
        "Str_input = \"Hello World\"\n",
        "count=0\n",
        "for i in Str_input:\n",
        "  count+=1\n",
        "print(count)"
      ],
      "metadata": {
        "colab": {
          "base_uri": "https://localhost:8080/"
        },
        "id": "vU4TkR5MOTgA",
        "outputId": "32320e37-137c-4ae1-ad34-64dc764882f3"
      },
      "execution_count": 21,
      "outputs": [
        {
          "output_type": "stream",
          "name": "stdout",
          "text": [
            "11\n"
          ]
        }
      ]
    },
    {
      "cell_type": "code",
      "source": [
        "# code to slice the first 3 characters from the string \"Python Programming\"\n",
        "Str_input1 = \"Python Programming\"\n",
        "print(Str_input1[:3])"
      ],
      "metadata": {
        "colab": {
          "base_uri": "https://localhost:8080/"
        },
        "id": "dbET26QSQL-b",
        "outputId": "92fe8569-8436-4fb9-f2b8-a8f9a94101d2"
      },
      "execution_count": 76,
      "outputs": [
        {
          "output_type": "stream",
          "name": "stdout",
          "text": [
            "Pyt\n"
          ]
        }
      ]
    },
    {
      "cell_type": "code",
      "source": [
        "#code to convert the string \"hello\" to uppercase\n",
        "Str_Input2= \"hello\"\n",
        "print(Str_Input2.upper())"
      ],
      "metadata": {
        "colab": {
          "base_uri": "https://localhost:8080/"
        },
        "id": "AGsqWlN7Rbd_",
        "outputId": "be83bebd-e014-4527-96a3-6abcd56ed5cc"
      },
      "execution_count": 21,
      "outputs": [
        {
          "output_type": "stream",
          "name": "stdout",
          "text": [
            "HELLO\n"
          ]
        }
      ]
    },
    {
      "cell_type": "code",
      "source": [
        "#code to replace the word \"apple\" with \"orange\" in the string \"I like apple\"P\n",
        "Test_String = \"I like apple\"\n",
        "print(Test_String.replace('apple','orange'))"
      ],
      "metadata": {
        "colab": {
          "base_uri": "https://localhost:8080/"
        },
        "id": "_oUY-fwLSQ5z",
        "outputId": "dc8edf09-0d23-4e3e-a1a3-e38a4a420b59"
      },
      "execution_count": 25,
      "outputs": [
        {
          "output_type": "stream",
          "name": "stdout",
          "text": [
            "I like orange\n"
          ]
        }
      ]
    },
    {
      "cell_type": "code",
      "source": [
        "# create a list with numbers 1 to 5\n",
        "List1=[1,2,3,4,5]\n",
        "print(List1)\n",
        "print(type(List1))"
      ],
      "metadata": {
        "colab": {
          "base_uri": "https://localhost:8080/"
        },
        "id": "R0JNm3TETcDt",
        "outputId": "c91d58fb-f9cf-4a52-d905-e0246b76be03"
      },
      "execution_count": 14,
      "outputs": [
        {
          "output_type": "stream",
          "name": "stdout",
          "text": [
            "[1, 2, 3, 4, 5]\n",
            "<class 'list'>\n"
          ]
        }
      ]
    },
    {
      "cell_type": "code",
      "source": [
        "#append the number 10 to the list [1, 2, 3, 4]\n",
        "List2= [1, 2, 3, 4]\n",
        "List2.append(10)\n",
        "print(List2)"
      ],
      "metadata": {
        "colab": {
          "base_uri": "https://localhost:8080/"
        },
        "id": "DQ6X1Pghqu8f",
        "outputId": "a96f3cbd-5506-4ad8-cd0a-f39a8cb96883"
      },
      "execution_count": 77,
      "outputs": [
        {
          "output_type": "stream",
          "name": "stdout",
          "text": [
            "[1, 2, 3, 4, 10]\n"
          ]
        }
      ]
    },
    {
      "cell_type": "code",
      "source": [
        "#code to remove the number 3 from the list [1, 2, 3, 4, 5]\n",
        "List3= [1, 2, 3, 4, 5]\n",
        "List3.remove(3)\n",
        "print(List3)"
      ],
      "metadata": {
        "colab": {
          "base_uri": "https://localhost:8080/"
        },
        "id": "aRM9hHVSrDVb",
        "outputId": "58d68350-5acd-47d8-9f31-98cf12b368b7"
      },
      "execution_count": 78,
      "outputs": [
        {
          "output_type": "stream",
          "name": "stdout",
          "text": [
            "[1, 2, 4, 5]\n"
          ]
        }
      ]
    },
    {
      "cell_type": "code",
      "source": [
        "#access the second element\n",
        "List_alphabets=['a','b','c','d']\n",
        "print(List_alphabets[1])"
      ],
      "metadata": {
        "colab": {
          "base_uri": "https://localhost:8080/"
        },
        "id": "PQj4hwPyrXN7",
        "outputId": "a4acaaea-746c-453e-d2fe-b5ea71f0147c"
      },
      "execution_count": 19,
      "outputs": [
        {
          "output_type": "stream",
          "name": "stdout",
          "text": [
            "b\n"
          ]
        }
      ]
    },
    {
      "cell_type": "code",
      "source": [
        "#code to reverse the list\n",
        "input_List= [10, 20, 30, 40, 50]\n",
        "input_List.reverse()\n",
        "print(input_List)"
      ],
      "metadata": {
        "colab": {
          "base_uri": "https://localhost:8080/"
        },
        "id": "nv7dO9cQtLdE",
        "outputId": "bb1256f6-bb38-453d-93a5-987ddbbbc467"
      },
      "execution_count": 22,
      "outputs": [
        {
          "output_type": "stream",
          "name": "stdout",
          "text": [
            "[50, 40, 30, 20, 10]\n"
          ]
        }
      ]
    },
    {
      "cell_type": "code",
      "source": [
        "#code to create a tuple with the elements 100, 200, 300 and print it\n",
        "input_tuple=(100,200,300)\n",
        "print(input_tuple)\n",
        "print(type(input_tuple))"
      ],
      "metadata": {
        "colab": {
          "base_uri": "https://localhost:8080/"
        },
        "id": "yldGKnn5uaI5",
        "outputId": "09fc3d1f-fed0-43af-c6bf-90e78cc3680e"
      },
      "execution_count": 24,
      "outputs": [
        {
          "output_type": "stream",
          "name": "stdout",
          "text": [
            "(100, 200, 300)\n",
            "<class 'tuple'>\n"
          ]
        }
      ]
    },
    {
      "cell_type": "code",
      "source": [
        "#code to access the second-to-last element of the tuple ('red', 'green', 'blue', 'yellow').\n",
        "input_tuple1=('red', 'green', 'blue', 'yellow')\n",
        "print(input_tuple1[-2])\n"
      ],
      "metadata": {
        "colab": {
          "base_uri": "https://localhost:8080/"
        },
        "id": "_NHcIvOdwzXD",
        "outputId": "e353ddb1-8b82-4d55-9dc6-c7f1f0d48d14"
      },
      "execution_count": 26,
      "outputs": [
        {
          "output_type": "stream",
          "name": "stdout",
          "text": [
            "blue\n"
          ]
        }
      ]
    },
    {
      "cell_type": "code",
      "source": [
        " #find the minimum number in the tuple (10, 20, 5, 15).\n",
        " input_tuple2=(10, 20, 5, 15)\n",
        " print(min(input_tuple2))"
      ],
      "metadata": {
        "colab": {
          "base_uri": "https://localhost:8080/"
        },
        "id": "b0x9p16IxZxj",
        "outputId": "9498602b-d997-4d0a-8651-a677cfef7da8"
      },
      "execution_count": 28,
      "outputs": [
        {
          "output_type": "stream",
          "name": "stdout",
          "text": [
            "5\n"
          ]
        }
      ]
    },
    {
      "cell_type": "code",
      "source": [
        "#code to find the index of the element \"cat\" in the tuple ('dog', 'cat', 'rabbit')\n",
        "input_tuple3=('dog', 'cat', 'rabbit')\n",
        "print(input_tuple3.index('cat'))"
      ],
      "metadata": {
        "colab": {
          "base_uri": "https://localhost:8080/"
        },
        "id": "01pkvZd5yJJr",
        "outputId": "17a53b8f-8e21-4b4a-f616-e886cd7d7267"
      },
      "execution_count": 30,
      "outputs": [
        {
          "output_type": "stream",
          "name": "stdout",
          "text": [
            "1\n"
          ]
        }
      ]
    },
    {
      "cell_type": "code",
      "source": [
        "# code to create a tuple containing three different fruits and check if \"kiwi\" is in it.\n",
        "input_tuple4=('apple','banana','kiwi')\n",
        "print('kiwi' in input_tuple4)"
      ],
      "metadata": {
        "colab": {
          "base_uri": "https://localhost:8080/"
        },
        "id": "htbAgyQAyk_q",
        "outputId": "a86e224a-cf31-4a12-f0c6-9efe0f711176"
      },
      "execution_count": 32,
      "outputs": [
        {
          "output_type": "stream",
          "name": "stdout",
          "text": [
            "True\n"
          ]
        }
      ]
    },
    {
      "cell_type": "code",
      "source": [
        "# code to create a set with the elements 'a', 'b', 'c' and print it\n",
        "input_set={'a','b','c'}\n",
        "print(input_set)\n",
        "print(type(input_set))\n"
      ],
      "metadata": {
        "colab": {
          "base_uri": "https://localhost:8080/"
        },
        "id": "XRw0iN0tzKH2",
        "outputId": "c3b025c9-de5b-4b48-f7e2-c3a91c1a6f99"
      },
      "execution_count": 34,
      "outputs": [
        {
          "output_type": "stream",
          "name": "stdout",
          "text": [
            "{'a', 'c', 'b'}\n",
            "<class 'set'>\n"
          ]
        }
      ]
    },
    {
      "cell_type": "code",
      "source": [
        "#code to clear all elements from the set {1, 2, 3, 4, 5}.\n",
        "input_set1={1, 2, 3, 4, 5}\n",
        "input_set1.clear()\n",
        "print(input_set1)"
      ],
      "metadata": {
        "colab": {
          "base_uri": "https://localhost:8080/"
        },
        "id": "yLO3xxsnzdtm",
        "outputId": "a873ca06-d092-46b4-eb76-116a2a86b9b8"
      },
      "execution_count": 36,
      "outputs": [
        {
          "output_type": "stream",
          "name": "stdout",
          "text": [
            "set()\n"
          ]
        }
      ]
    },
    {
      "cell_type": "code",
      "source": [
        "#code to remove the element 4 from the set {1, 2, 3, 4}.\n",
        "input_set2={1, 2, 3, 4}\n",
        "input_set2.remove(4)\n",
        "print(input_set2)"
      ],
      "metadata": {
        "colab": {
          "base_uri": "https://localhost:8080/"
        },
        "id": "1eO-Bz7-znXx",
        "outputId": "dc1ddca0-fb8c-49ce-a229-a444bdf83ba7"
      },
      "execution_count": 38,
      "outputs": [
        {
          "output_type": "stream",
          "name": "stdout",
          "text": [
            "{1, 2, 3}\n"
          ]
        }
      ]
    },
    {
      "cell_type": "code",
      "source": [
        " #code to find the union of two sets {1, 2, 3} and {3, 4, 5}.\n",
        " input_set3={1, 2, 3}\n",
        " input_set4={3, 4, 5}\n",
        " print(input_set3.union(input_set4))\n",
        " print(input_set3 | input_set4) # union"
      ],
      "metadata": {
        "colab": {
          "base_uri": "https://localhost:8080/"
        },
        "id": "RFJRCG_9z9N9",
        "outputId": "42669c5a-ba31-4b88-930a-f221e3c172bf"
      },
      "execution_count": 42,
      "outputs": [
        {
          "output_type": "stream",
          "name": "stdout",
          "text": [
            "{1, 2, 3, 4, 5}\n",
            "{1, 2, 3, 4, 5}\n"
          ]
        }
      ]
    },
    {
      "cell_type": "code",
      "source": [
        "#code to find the intersection of two sets {1, 2, 3} and {2, 3, 4}\n",
        "input_set5={1, 2, 3}\n",
        "input_set6={2, 3, 4}\n",
        "print(input_set5.intersection(input_set6))\n",
        "print(input_set5 & input_set6) #intersection\n"
      ],
      "metadata": {
        "colab": {
          "base_uri": "https://localhost:8080/"
        },
        "id": "-axJW2z80r-e",
        "outputId": "d735669f-d2d8-46c2-ce2f-8e64a10a71ec"
      },
      "execution_count": 44,
      "outputs": [
        {
          "output_type": "stream",
          "name": "stdout",
          "text": [
            "{2, 3}\n",
            "{2, 3}\n"
          ]
        }
      ]
    },
    {
      "cell_type": "code",
      "source": [
        "\n"
      ],
      "metadata": {
        "id": "eE6u6qDS02p8"
      },
      "execution_count": null,
      "outputs": []
    },
    {
      "cell_type": "code",
      "source": [
        "# create a dictionary with the keys \"name\", \"age\", and \"city\", and print it\n",
        "\n",
        "my_dict = {\n",
        "    \"name\": \"John Doe\",\n",
        "    \"age\": 30,\n",
        "    \"city\": \"New York\"\n",
        "}\n",
        "print(my_dict)\n",
        "print(type(my_dict))\n"
      ],
      "metadata": {
        "colab": {
          "base_uri": "https://localhost:8080/"
        },
        "id": "6I-cLQdy2GZg",
        "outputId": "01951daf-f6de-4aaa-8b0f-50568f37cae0"
      },
      "execution_count": 47,
      "outputs": [
        {
          "output_type": "stream",
          "name": "stdout",
          "text": [
            "{'name': 'John Doe', 'age': 30, 'city': 'New York'}\n",
            "<class 'dict'>\n"
          ]
        }
      ]
    },
    {
      "cell_type": "code",
      "source": [
        "#code to add a new key-value pair \"country\": \"USA\" to the dictionary {'name': 'John', 'age': 25}\n",
        "my_dict1 = {'name': 'John', 'age': 25}\n",
        "my_dict1['country'] = 'USA'\n",
        "print(my_dict1)"
      ],
      "metadata": {
        "colab": {
          "base_uri": "https://localhost:8080/"
        },
        "id": "fiTL7MiS2ufM",
        "outputId": "7a77402a-5471-4c8a-e4ba-987e54f241ce"
      },
      "execution_count": 50,
      "outputs": [
        {
          "output_type": "stream",
          "name": "stdout",
          "text": [
            "{'name': 'John', 'age': 25, 'country': 'USA'}\n"
          ]
        }
      ]
    },
    {
      "cell_type": "code",
      "source": [
        "#code to access the value associated with the key \"name\" in the dictionary {'name': 'Alice', 'age': 30}\n",
        "my_dict2 = {'name': 'Alice', 'age': 30}\n",
        "print(my_dict2['name'])"
      ],
      "metadata": {
        "colab": {
          "base_uri": "https://localhost:8080/"
        },
        "id": "NRjckzcA3E9-",
        "outputId": "f90ecc11-627d-44f3-c023-d17d4db6cfff"
      },
      "execution_count": 52,
      "outputs": [
        {
          "output_type": "stream",
          "name": "stdout",
          "text": [
            "Alice\n"
          ]
        }
      ]
    },
    {
      "cell_type": "code",
      "source": [
        "# code to remove the key \"age\" from the dictionary {'name': 'Bob', 'age': 22, 'city': 'New York'}.\n",
        "my_dict3 = {'name': 'Bob', 'age': 22, 'city': 'New York'}\n",
        "my_dict3.pop('age')\n",
        "print(my_dict3)"
      ],
      "metadata": {
        "colab": {
          "base_uri": "https://localhost:8080/"
        },
        "id": "YEQN1Pqj3RTF",
        "outputId": "95bee808-3c16-4ff9-f0af-970e40ac9015"
      },
      "execution_count": 80,
      "outputs": [
        {
          "output_type": "stream",
          "name": "stdout",
          "text": [
            "{'name': 'Bob', 'city': 'New York'}\n"
          ]
        }
      ]
    },
    {
      "cell_type": "code",
      "source": [
        "#code to check if the key \"city\" exists in the dictionary {'name': 'Alice', 'city': 'Paris'}.\n",
        "my_dict4 = {'name': 'Alice', 'city': 'Paris'}\n",
        "print('city' in my_dict4)"
      ],
      "metadata": {
        "colab": {
          "base_uri": "https://localhost:8080/"
        },
        "id": "iLhqo1UU3t2y",
        "outputId": "dcfdac04-395b-490a-b81c-d064a9d0ea8b"
      },
      "execution_count": 59,
      "outputs": [
        {
          "output_type": "stream",
          "name": "stdout",
          "text": [
            "True\n"
          ]
        }
      ]
    },
    {
      "cell_type": "code",
      "source": [
        "# code to create a list, a tuple, and a dictionary, and print them all.\n",
        "my_list = [1, 2, 3, 4, 5]\n",
        "my_tuple = (10, 20, 30, 40, 50)\n",
        "my_dict = {'name': 'John', 'age': 30, 'city': 'New York'}\n",
        "print(\"List:\", my_list)\n",
        "print(\"Tuple:\", my_tuple)\n",
        "print(\"Dictionary:\", my_dict)"
      ],
      "metadata": {
        "colab": {
          "base_uri": "https://localhost:8080/"
        },
        "id": "A777yAFl4cwL",
        "outputId": "3ef91cea-4abf-49c2-8e30-6788a93260a9"
      },
      "execution_count": 62,
      "outputs": [
        {
          "output_type": "stream",
          "name": "stdout",
          "text": [
            "List: [1, 2, 3, 4, 5]\n",
            "Tuple: (10, 20, 30, 40, 50)\n",
            "Dictionary: {'name': 'John', 'age': 30, 'city': 'New York'}\n"
          ]
        }
      ]
    },
    {
      "cell_type": "code",
      "source": [
        "# code to create a list of 5 random numbers between 1 and 100, sort it in ascending order, and print the result.(replaced)\n",
        "import random\n",
        "\n",
        "random_numbers = []\n",
        "for i in range(5):\n",
        "  random_numbers.append(random.randint(1, 100))\n",
        "\n",
        "random_numbers.sort()\n",
        "random_numbers"
      ],
      "metadata": {
        "colab": {
          "base_uri": "https://localhost:8080/"
        },
        "id": "rh1FqpPb45h_",
        "outputId": "a80687f0-e3f9-43e9-f71e-f9609765e7cb"
      },
      "execution_count": 82,
      "outputs": [
        {
          "output_type": "execute_result",
          "data": {
            "text/plain": [
              "[7, 12, 39, 81, 85]"
            ]
          },
          "metadata": {},
          "execution_count": 82
        }
      ]
    },
    {
      "cell_type": "code",
      "source": [
        "# code to create a list with strings and print the element at the third index\n",
        "test_list1 = ['apple', 'banana', 'cherry', 'date', 'elderberry']\n",
        "print(test_list1[3])"
      ],
      "metadata": {
        "colab": {
          "base_uri": "https://localhost:8080/"
        },
        "id": "TUPk-W5n5q5M",
        "outputId": "fe3873ea-e307-4a0d-da2e-c928dd053355"
      },
      "execution_count": 68,
      "outputs": [
        {
          "output_type": "stream",
          "name": "stdout",
          "text": [
            "date\n"
          ]
        }
      ]
    },
    {
      "cell_type": "code",
      "source": [
        "#code to combine two dictionaries into one and print the result\n",
        "dict1 = {'a': 1, 'b': 2}\n",
        "dict2 = {'c': 3, 'd': 4}\n",
        "dict1.update(dict2)\n",
        "print(dict1)"
      ],
      "metadata": {
        "colab": {
          "base_uri": "https://localhost:8080/"
        },
        "id": "VkgeyqfW53pZ",
        "outputId": "9fca6b53-41ab-4663-ec23-976fb5c4062b"
      },
      "execution_count": 85,
      "outputs": [
        {
          "output_type": "stream",
          "name": "stdout",
          "text": [
            "{'a': 1, 'b': 2, 'c': 3, 'd': 4}\n"
          ]
        }
      ]
    },
    {
      "cell_type": "code",
      "source": [
        "#code to convert a list of strings into a set\n",
        "input_list = ['apple', 'banana', 'cherry', 'apple', 'banana']\n",
        "input_set = set(input_list)\n",
        "print(input_set)"
      ],
      "metadata": {
        "colab": {
          "base_uri": "https://localhost:8080/"
        },
        "id": "Wdh6Hf0X7WWr",
        "outputId": "a3d60796-5837-423d-e8e3-d5bb0b2a8d8d"
      },
      "execution_count": 75,
      "outputs": [
        {
          "output_type": "stream",
          "name": "stdout",
          "text": [
            "{'banana', 'apple', 'cherry'}\n"
          ]
        }
      ]
    }
  ]
}